{
 "cells": [
  {
   "cell_type": "code",
   "execution_count": 1,
   "id": "c6fc9ec2-08b5-4bb4-84c4-e63b01ac0647",
   "metadata": {},
   "outputs": [],
   "source": [
    "import sys\n",
    "import os\n",
    "import numpy as np\n",
    "import pandas as pd\n",
    "from glob import glob\n",
    "from scipy.signal import ricker\n",
    "from scipy.optimize import minimize"
   ]
  },
  {
   "cell_type": "code",
   "execution_count": 2,
   "id": "35c5d3c1-f36e-49f6-876c-08b486881c6e",
   "metadata": {},
   "outputs": [],
   "source": [
    "sys.path.append('../../../repos/seismiqb/')"
   ]
  },
  {
   "cell_type": "code",
   "execution_count": 5,
   "id": "30c5fbe5-ec2c-4bc5-b53a-851a1a87345c",
   "metadata": {},
   "outputs": [],
   "source": [
    "from seismiqb import Well, OptimizationMixin, ImpulseOptimizationFactory, show_wavelet, symmetric_wavelet_estimation\n",
    "from seismiqb import plot, Field"
   ]
  },
  {
   "cell_type": "code",
   "execution_count": 6,
   "id": "c6ac19ab-5368-4af6-b7f5-e94e892e9578",
   "metadata": {},
   "outputs": [],
   "source": [
    "os.environ[\"CUDA_VISIBLE_DEVICES\"] = \"3\""
   ]
  },
  {
   "cell_type": "markdown",
   "id": "4c2bea5c-366c-451e-a091-e8f3154865ce",
   "metadata": {},
   "source": [
    "## Parameters"
   ]
  },
  {
   "cell_type": "code",
   "execution_count": null,
   "id": "d86bf185-5cc6-471a-8582-fb669512b954",
   "metadata": {},
   "outputs": [],
   "source": [
    "CUBE_PATH = '/data/seismic_data/seismic_interpretation/105_ZAPZIP/105_ZAPZIM_CLEANED.sgy'\n",
    "WELL_PATH = '/data/seismic_data/seismic_interpretation/105_ZAPZIP/Well/LAS/*'\n",
    "WELL_COORDINATES_PATH = '/data/seismic_data/seismic_interpretation/105_ZAPZIP/Well/Coordinates/Coordinates_wells.txt'\n",
    "\n",
    "\n",
    "# Number of well-tie/wavelet-optimization pairs\n",
    "N_ITERS = 4\n",
    "\n",
    "# Ticks\n",
    "CLEAN_TIME_SLICE = slice(346, 1219, None)\n",
    "GLOBAL_SHIFT = 0.69130848\n",
    "BOUNDS_MULTIPLIERS = [0.96, 1.04]\n",
    "\n",
    "# Wavelet\n",
    "CUT_FREQUENCY = 8\n",
    "DELTA = .9"
   ]
  },
  {
   "cell_type": "markdown",
   "id": "89247fcb-c995-424f-b2ca-6cfdb944d660",
   "metadata": {},
   "source": [
    "## Open and filter log"
   ]
  },
  {
   "cell_type": "code",
   "execution_count": 16,
   "id": "3a48148d-c232-459b-ad25-01b927dff79c",
   "metadata": {},
   "outputs": [],
   "source": [
    "# Load info about the cube\n",
    "field = Field(CUBE_PATH)\n",
    "geometry = field.geometry\n",
    "field.geometries = geometry\n",
    "\n",
    "# Load the well\n",
    "coordinates_df = pd.read_csv(COORDINATES_PATH, sep='\\s+', encoding='1251')\n",
    "coordinates = coordinates_df[['X_utm42', 'Y_utm42']].values\n",
    "ordinal_coordinates = geometry.cdp_to_lines(coordinates).astype(np.int32) - geometry.shifts\n",
    "name_to_coordinate = dict(zip(coordinates_df['N_skv'], ordinal_coordinates))\n",
    "\n",
    "well_paths = sorted(glob(WELL_PATH))\n",
    "well_name = os.path.basename(well_paths[3])\n",
    "well_coordinates = name_to_coordinate[well_name].tolist()\n",
    "well_slice = (*well_coordinates, slice(0, geometry.shape[-1]))\n",
    "well = Well(storage=well_path, field=field)\n",
    "\n",
    "\n",
    "# Recompute and filter impedance\n",
    "nan_mask = np.isnan(well.DT) | np.isnan(well.RHOB)\n",
    "well.RHOB = well.RHOB.fillna(method='bfill').fillna(method='ffill')\n",
    "well.DT = well.DT.fillna(method='bfill').fillna(method='ffill')\n",
    "\n",
    "well['DT_FILTERED'] = well.lowpass_filter(well.DT, pad_width=None, forward_backward=True)\n",
    "well.microseconds_foot_to_seconds_meter(sonic_log='DT_FILTERED', name='DT_SECONDS_METER')\n",
    "\n",
    "well['RHOB_FILTERED'] = well.lowpass_filter(well.RHOB, pad_width=0, forward_backward=True)\n",
    "well.gramm_centimeter3_to_kilogramm_meter3(density_log='RHOB_FILTERED', name='RHOB_FILTERED')\n",
    "\n",
    "well.compute_impedance_log_in_pascal_meter(sonic_log='DT_SECONDS_METER', density_log='RHOB_FILTERED')\n",
    "well.pascal_meter_to_kilopascal_meter(name='AI_FILTERED')\n",
    "\n",
    "well.AI_FILTERED[nan_mask] = np.nan\n",
    "\n",
    "\n",
    "# Get seismic data and seismic time\n",
    "seismic_time = np.arange(0.0, geometry.depth * geometry.sample_interval * 1e-3, geometry.sample_interval * 1e-3)\n",
    "seismic_curve = geometry[well_slice]\n",
    "\n",
    "\n",
    "# Compute initial well-time and wavelet\n",
    "well_time_0 = np.cumsum(well.DT_FILTERED.values * 1e-6) + GLOBAL_SHIFT\n",
    "raw_impedance = well['AI_FILTERED'].values\n",
    "wavelet_0 = symmetric_wavelet_estimation(seismic_curve, wavelet_length=60)"
   ]
  },
  {
   "cell_type": "markdown",
   "id": "fa3289eb-a048-4b36-bacb-8838e450f3a1",
   "metadata": {},
   "source": [
    "## Run iterations of [well_tie + wavelet-optimization]"
   ]
  },
  {
   "cell_type": "markdown",
   "id": "18e10a87-b7b3-4fc2-8943-e929d1133fe4",
   "metadata": {},
   "source": [
    "# Start well time and wavelet."
   ]
  },
  {
   "cell_type": "code",
   "execution_count": null,
   "id": "d3cf0078-e0f3-4a67-8ace-3f6c5a7eec2a",
   "metadata": {},
   "outputs": [],
   "source": [
    "well_time = well_time_0\n",
    "wavelet = wavelet_0\n",
    "\n",
    "for _ in range(N_ITERS):\n",
    "    # Optimize and update well-time ticks\n",
    "    results = well.optimize_well_time(well_time, seismic_time[CLEAN_TIME_SLICE],\n",
    "                                      seismic_curve[CLEAN_TIME_SLICE], raw_impedance, impulse=wavelet[::-1].copy(),\n",
    "                                      dt_bounds_multipliers=BOUNDS_MULTIPLIERS, n_iters=6000, optimizer='SGD',\n",
    "                                      optimizer_kwargs={'lr': 2e-9})\n",
    "    well_time, loss_history = results\n",
    "\n",
    "    # Optimize and update wavelet\n",
    "    factory = ImpulseOptimizationFactory(wavelet, seismic_time[CLEAN_TIME_SLICE], well_time,\n",
    "                                         seismic_curve[CLEAN_TIME_SLICE], raw_impedance,\n",
    "                                         cut_frequency=cut_frequency, delta=DELTA)\n",
    "\n",
    "    results = minimize(factory, factory.get_x0, bounds=factory.get_bounds)\n",
    "    wavelet = optimization_factory.compute_impulse(results['x'])"
   ]
  },
  {
   "cell_type": "markdown",
   "id": "3af3c49b-6d69-45a2-9197-b0b57c4fccaa",
   "metadata": {},
   "source": [
    "## Dump whatever needed"
   ]
  },
  {
   "cell_type": "code",
   "execution_count": null,
   "id": "1cc97f4c-03cb-49a8-82b3-ed08add1acff",
   "metadata": {},
   "outputs": [],
   "source": [
    "# dump well_time, wavelet in whatever shape you want"
   ]
  }
 ],
 "metadata": {
  "kernelspec": {
   "display_name": "Python 3 (ipykernel)",
   "language": "python",
   "name": "python3"
  },
  "language_info": {
   "codemirror_mode": {
    "name": "ipython",
    "version": 3
   },
   "file_extension": ".py",
   "mimetype": "text/x-python",
   "name": "python",
   "nbconvert_exporter": "python",
   "pygments_lexer": "ipython3",
   "version": "3.8.10"
  },
  "widgets": {
   "application/vnd.jupyter.widget-state+json": {
    "state": {},
    "version_major": 2,
    "version_minor": 0
   }
  }
 },
 "nbformat": 4,
 "nbformat_minor": 5
}
