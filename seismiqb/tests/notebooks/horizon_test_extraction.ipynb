{
 "cells": [
  {
   "cell_type": "code",
   "execution_count": null,
   "metadata": {},
   "outputs": [],
   "source": [
    "# Tests for methods that merge horizons\n",
    "import os\n",
    "import sys\n",
    "from datetime import date\n",
    "import warnings\n",
    "import math\n",
    "import numpy as np\n",
    "import pandas as pd\n",
    "\n",
    "warnings.filterwarnings('ignore')\n",
    "\n",
    "sys.path.append('../..') # for running py-script\n",
    "sys.path.append('../../..') # for running this notebook directly\n",
    "\n",
    "from seismiqb import Field, Horizon, plot_image"
   ]
  },
  {
   "cell_type": "code",
   "execution_count": null,
   "metadata": {
    "tags": []
   },
   "outputs": [],
   "source": [
    "# Workspace constants\n",
    "DATESTAMP = date.today().strftime(\"%Y-%m-%d\")\n",
    "TESTS_ROOT_DIR = './'\n",
    "\n",
    "# Visualization parameters\n",
    "SCALE = 1\n",
    "SHOW_FIGURES = True\n",
    "\n",
    "# Output parameters\n",
    "VERBOSE = True"
   ]
  },
  {
   "cell_type": "code",
   "execution_count": null,
   "metadata": {},
   "outputs": [],
   "source": [
    "# Tests parameters\n",
    "OUTPUT_DIR = os.path.join(TESTS_ROOT_DIR, f\"horizon_test_files\")\n",
    "\n",
    "CUBE_PATH = os.path.join(OUTPUT_DIR, f\"test_cube_{DATESTAMP}.sgy\")\n",
    "HORIZON_PATH = os.path.join(OUTPUT_DIR, f\"test_horizon_{DATESTAMP}\")"
   ]
  },
  {
   "cell_type": "code",
   "execution_count": null,
   "metadata": {
    "tags": []
   },
   "outputs": [],
   "source": [
    "def test_horizons_equality(horizon_1, horizon_2, test_name):\n",
    "    \" Check two horizons equality.\"\n",
    "    assert np.array_equal(horizon_1.full_matrix, horizon_2.full_matrix), f\"{test_name} test failed\"\n",
    "    assert np.array_equal(horizon_1.points, horizon_2.points), f\"{test_name} test failed\""
   ]
  },
  {
   "cell_type": "code",
   "execution_count": null,
   "metadata": {
    "tags": []
   },
   "outputs": [],
   "source": [
    "%%time\n",
    "field = Field(CUBE_PATH)\n",
    "\n",
    "horizon = Horizon(HORIZON_PATH, field=field)\n",
    "field.load_labels({'horizons': horizon})\n",
    "\n",
    "horizon.show(show=SHOW_FIGURES)"
   ]
  },
  {
   "cell_type": "code",
   "execution_count": null,
   "metadata": {},
   "outputs": [],
   "source": [
    "message = \"\""
   ]
  },
  {
   "cell_type": "markdown",
   "metadata": {},
   "source": [
    "# Merge two horizons"
   ]
  },
  {
   "cell_type": "code",
   "execution_count": null,
   "metadata": {},
   "outputs": [],
   "source": [
    "configs = [\n",
    "#   (first horizon border, second horizon border, verify_merge code)\n",
    "    (len(horizon.points)//2, len(horizon.points)//2-len(horizon.points)//10, 4),        # overlap\n",
    "    (len(horizon.points)//10, len(horizon.points)//10, 3),                              # close without overlap\n",
    "    (len(horizon.points)//10, len(horizon.points)//2, 1),                               # spatially_far\n",
    "    (len(horizon.points)//10, len(horizon.points)//10-len(horizon.points)//20, 0)       # height-wise far\n",
    "]"
   ]
  },
  {
   "cell_type": "code",
   "execution_count": null,
   "metadata": {
    "tags": []
   },
   "outputs": [],
   "source": [
    "%%time\n",
    "# Horizon.*_merge methods\n",
    "\n",
    "for (border_1, border_2, code) in configs:\n",
    "    # Make new horizons\n",
    "    horizon_1 = Horizon(horizon.points[:border_1, :],\n",
    "                        field=field, name=\"horizon_1\")\n",
    "\n",
    "    horizon_2 = Horizon(horizon.points[border_2:, :],\n",
    "                        field=field, name=\"horizon_2\")\n",
    "\n",
    "    if code == 0: # make horizons height-wise far\n",
    "        horizon_2.points[:, 2] += 50\n",
    "\n",
    "    # Check merge code\n",
    "    error_message = f\"merge two horizons with code {code} test failed\"\n",
    "    assert horizon_1.verify_merge(horizon_2, adjacency=1) == code, error_message\n",
    "\n",
    "    # Merge and check horizons if they are mergeable\n",
    "    if code == 4:\n",
    "        merged_horizon = Horizon.overlap_merge(horizon_1, horizon_2)\n",
    "\n",
    "        assert horizon.equal(merged_horizon), \"merge overlapped horizons failed\"\n",
    "\n",
    "    elif code == 3:\n",
    "        merged_horizon = horizon_1.adjacent_merge(horizon_2)\n",
    "\n",
    "        assert horizon.equal(merged_horizon), \"merge close without overlap horizons failed\"\n",
    "\n",
    "    if VERBOSE:\n",
    "        current_message = f\"The two horizons merge test with merge code {code} was successfully passed.\\n\"\n",
    "        print(current_message)\n",
    "        message += current_message"
   ]
  },
  {
   "cell_type": "markdown",
   "metadata": {},
   "source": [
    "# Merge multiple horizons\n",
    "\n",
    "We split a horizon in multiple parts, merge them into one horizon and compare it with original one."
   ]
  },
  {
   "cell_type": "code",
   "execution_count": null,
   "metadata": {},
   "outputs": [],
   "source": [
    "horizon.filter()\n",
    "\n",
    "zero_traces = np.tril(horizon.full_matrix).astype(bool)\n",
    "horizon.filter(zero_traces)\n",
    "\n",
    "horizon.filter_disconnected_regions()\n",
    "\n",
    "horizon.show(show=SHOW_FIGURES, scale=SCALE)"
   ]
  },
  {
   "cell_type": "code",
   "execution_count": null,
   "metadata": {
    "tags": []
   },
   "outputs": [],
   "source": [
    "def split_and_merge_horizon_test(horizon, crop_shape, overlap, adjacency):\n",
    "    \"\"\" Split a horizon in crops with overlap and merge them.\n",
    "\n",
    "    Merged horizon compared with the original.\n",
    "\n",
    "    Parameters\n",
    "    ----------\n",
    "    horizon : instance of the `Horizon` class\n",
    "        Seismic horizon.\n",
    "    crop_shape : sequence of two integers\n",
    "        Crop shape (ilines, xlines).\n",
    "    overlap : sequence of two integers\n",
    "        Crops overlap by (ilines, xlines).\n",
    "    adjacency : int\n",
    "        Margin to consider horizons to be close (spatially).\n",
    "    \"\"\"\n",
    "    current_message = \"\"\n",
    "    borders = []\n",
    "\n",
    "    # Get splitting borders\n",
    "    for axis in range(2):\n",
    "        crop_num_ = math.ceil(horizon.full_matrix.shape[axis]/(crop_shape[axis] - overlap[axis]))\n",
    "        axis_borders = [(i*(crop_shape[axis] - overlap[axis]),\n",
    "                        (i*(crop_shape[axis] - overlap[axis]) + crop_shape[axis]))\n",
    "                        for i in range(crop_num_)]\n",
    "\n",
    "        borders.append(axis_borders)\n",
    "\n",
    "    horizons = []\n",
    "\n",
    "    # Split a horizon\n",
    "    for i_line_border_num in range(0, len(borders[0])):\n",
    "        for x_line_border_num in range(0, len(borders[1])):\n",
    "            horizon_i_borders = borders[0][i_line_border_num]\n",
    "            horizon_x_borders = borders[1][x_line_border_num]\n",
    "\n",
    "            cutted_horizon_matrix = horizon.full_matrix[horizon_i_borders[0]:horizon_i_borders[1],\n",
    "                                                        horizon_x_borders[0]:horizon_x_borders[1]]\n",
    "\n",
    "            if not np.all(cutted_horizon_matrix == horizon.FILL_VALUE):\n",
    "                horizon_ = Horizon(cutted_horizon_matrix, force_format=\"matrix\",\n",
    "                                   i_min=horizon_i_borders[0], x_min=horizon_x_borders[0],\n",
    "                                   field=field,\n",
    "                                   name=f'A_horizon_{i_line_border_num*x_line_border_num}')\n",
    "\n",
    "                horizons.append(horizon_)\n",
    "\n",
    "    merged_ = np.zeros_like(horizons[0].full_matrix)\n",
    "\n",
    "    for horizon_ in horizons:\n",
    "        merged_ += (horizon_.full_matrix > 0).astype(np.int32)\n",
    "\n",
    "    # Horizon merge: inplace\n",
    "    horizons, _ = Horizon.merge_list(horizons, adjacency=adjacency, mean_threshold=5.)\n",
    "    merged_horizon = horizons[-1]\n",
    "\n",
    "    params = f\"crop_shape={crop_shape}; overlap={overlap}; adjacency={adjacency}\"\n",
    "\n",
    "\n",
    "    # Take a look at horizon parts summation\n",
    "    if SHOW_FIGURES:\n",
    "        plot_image([merged_, merged_horizon.full_matrix], separate=True,\n",
    "                   scale=SCALE, suptitle_label=params, suptitle_y=0.9,\n",
    "                   colorbar=True, fontsize=14)\n",
    "\n",
    "    # Asserts\n",
    "    if (overlap[0] >= 0) and (overlap[1] >= 0):\n",
    "        n_missing = 0\n",
    "        assert horizon.equal(merged_horizon), f\"\"\"Merge list with ({params}) failed!\"\"\"\n",
    "\n",
    "    else:\n",
    "        n_missing = len(horizon) - (merged_ > 0).sum()\n",
    "        error_message = f\"Merge list with ({params}) failed!\"\n",
    "        assert horizon.equal(merged_horizon, threshold_missing=n_missing + 1), error_message\n",
    "\n",
    "    if VERBOSE:\n",
    "        current_message = f\"The multiple horizons merge test with params {params} was successfully passed.\\n\"\n",
    "        print(current_message)\n",
    "\n",
    "    return current_message"
   ]
  },
  {
   "cell_type": "code",
   "execution_count": null,
   "metadata": {
    "scrolled": true,
    "tags": []
   },
   "outputs": [],
   "source": [
    "overlaps = [(i, j) for i in range(-3, 4) for j in range(-3, 4)]\n",
    "\n",
    "SHOW_FIGURES = False\n",
    "\n",
    "crop_shapes = [\n",
    "    (horizon.full_matrix.shape[0]//20+1, horizon.full_matrix.shape[1]//20+1), # Split horizon into small square crops\n",
    "    (horizon.full_matrix.shape[0]//10+1, horizon.full_matrix.shape[1]//10+1), # Split horizon into medium square crops\n",
    "    (horizon.full_matrix.shape[0]//5+1, horizon.full_matrix.shape[1]//5+1),   # Split horizon into big square crops\n",
    "    (horizon.full_matrix.shape[0], horizon.full_matrix.shape[1]//20+1),       # Split horizon by i_lines\n",
    "    (horizon.full_matrix.shape[0]//20+1, horizon.full_matrix.shape[1])        # Split horizon by x_lines\n",
    "]\n",
    "\n",
    "for crop_shape in crop_shapes:\n",
    "    for overlap in overlaps:\n",
    "        min_ = min(overlap)\n",
    "        adjacency = 0 if min_>0 else -min_ + 1\n",
    "        message += split_and_merge_horizon_test(horizon=horizon, crop_shape=crop_shape,\n",
    "                                                overlap=overlap, adjacency=adjacency)"
   ]
  },
  {
   "cell_type": "markdown",
   "metadata": {},
   "source": [
    "# Extract"
   ]
  },
  {
   "cell_type": "code",
   "execution_count": null,
   "metadata": {
    "tags": []
   },
   "outputs": [],
   "source": [
    "%%time\n",
    "valid_traces = 1 - field.zero_traces\n",
    "mask = np.zeros(field.shape, dtype=np.int32)\n",
    "for horizon in field.labels:\n",
    "    mask[horizon.points[:, 0], horizon.points[:, 1], horizon.points[:, 2]] = 1\n",
    "\n",
    "\n",
    "origin = np.array([0, 0, 0])"
   ]
  },
  {
   "cell_type": "markdown",
   "metadata": {},
   "source": [
    "# No chunks"
   ]
  },
  {
   "cell_type": "code",
   "execution_count": null,
   "metadata": {
    "tags": []
   },
   "outputs": [],
   "source": [
    "horizons = Horizon.from_mask(mask.copy(), field=field, origin=origin)\n",
    "extracted_horizon = horizons[-1]\n",
    "horizon.equal(extracted_horizon)"
   ]
  },
  {
   "cell_type": "markdown",
   "metadata": {},
   "source": [
    "# With chunks"
   ]
  },
  {
   "cell_type": "code",
   "execution_count": null,
   "metadata": {
    "tags": []
   },
   "outputs": [],
   "source": [
    "def chunked_extraction_test(mask, true_horizon, valid_traces, origin, step, overlap):\n",
    "    current_message = \"\"\n",
    "    params = f'step={step}; overlap={overlap}'\n",
    "    i_step = x_step = step\n",
    "    i_overlap = x_overlap = overlap\n",
    "\n",
    "    # Make an iterator of subvolumes\n",
    "    iterator = []\n",
    "    for i_start in range(0, mask.shape[0], i_step - i_overlap):\n",
    "        for x_start in range(0, mask.shape[1], x_step - x_overlap):\n",
    "            i_end = min(i_start + i_step, mask.shape[0])\n",
    "            x_end = min(x_start + x_step, mask.shape[1])\n",
    "\n",
    "            slices = (slice(i_start, i_end), slice(x_start, x_end), slice(None))\n",
    "\n",
    "            if valid_traces[slices[:2]].sum() > 0:\n",
    "                iterator.append(slices)\n",
    "\n",
    "\n",
    "    # Extract surfaces from each subvolume\n",
    "    horizons = []\n",
    "    for subvolume_slices in iterator:\n",
    "        subvolume = mask[subvolume_slices].copy()\n",
    "        subvolume_origin = origin + [slc.start or 0 for slc in subvolume_slices]\n",
    "\n",
    "        horizons_, _ = Horizon.extract_from_mask(subvolume, field=field, origin=subvolume_origin,\n",
    "                                                 minsize=0, verbose=False)\n",
    "        horizons.extend(horizons_)\n",
    "\n",
    "\n",
    "    # Merge horizons from chunks\n",
    "    horizons, _ = Horizon.merge_list(horizons, mean_threshold=0.5,\n",
    "                                               max_threshold=0.2, adjacency=0)\n",
    "    extracted_horizon = horizons[-1]\n",
    "    assert true_horizon.equal(extracted_horizon), f\"Failed extraction with chunks: {params}\"\n",
    "\n",
    "    if VERBOSE:\n",
    "        current_message = f\"The chunks test with params {params} was successfully passed.\\n\"\n",
    "        print(current_message)\n",
    "    return current_message"
   ]
  },
  {
   "cell_type": "code",
   "execution_count": null,
   "metadata": {
    "scrolled": true,
    "tags": []
   },
   "outputs": [],
   "source": [
    "for step in [30, 50, 100]:\n",
    "    for overlap in [5, 10, 15]:\n",
    "        message += chunked_extraction_test(mask.copy(), true_horizon=horizon,\n",
    "                                           valid_traces=valid_traces, origin=origin,\n",
    "                                           step=step, overlap=overlap)"
   ]
  }
 ],
 "metadata": {
  "kernelspec": {
   "display_name": "Python 3 (ipykernel)",
   "language": "python",
   "name": "python3"
  },
  "language_info": {
   "codemirror_mode": {
    "name": "ipython",
    "version": 3
   },
   "file_extension": ".py",
   "mimetype": "text/x-python",
   "name": "python",
   "nbconvert_exporter": "python",
   "pygments_lexer": "ipython3",
   "version": "3.8.10"
  },
  "widgets": {
   "application/vnd.jupyter.widget-state+json": {
    "state": {},
    "version_major": 2,
    "version_minor": 0
   }
  }
 },
 "nbformat": 4,
 "nbformat_minor": 4
}
