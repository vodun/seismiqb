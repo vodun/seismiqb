{
 "cells": [
  {
   "cell_type": "code",
   "execution_count": null,
   "metadata": {},
   "outputs": [],
   "source": [
    "# This notebook consists of tests for SeismicGeometry\n",
    "# Note that it runs only for one predefined dataformat from available formats\n",
    "import os\n",
    "import sys\n",
    "from datetime import date\n",
    "import warnings\n",
    "warnings.filterwarnings(\"ignore\")\n",
    "\n",
    "import numpy as np\n",
    "\n",
    "sys.path.append('../../../seismiqb')\n",
    "\n",
    "from seismiqb import SeismicGeometry"
   ]
  },
  {
   "cell_type": "code",
   "execution_count": null,
   "metadata": {},
   "outputs": [],
   "source": [
    "\"\"\" You should pay attention to the next parameter:\n",
    "\n",
    "FORMAT : str\n",
    "    A file format with SeismicGeometry. Possible options are: 'sgy', 'hdf5', 'qhdf5', 'blosc', 'qblosc'.\n",
    "    \n",
    "It is used for running this notebook for all available data formats in the test script.\n",
    "\"\"\"\n",
    "# Workspace constants\n",
    "DATESTAMP = date.today().strftime(\"%Y-%m-%d\")\n",
    "TESTS_ROOT_DIR = './'\n",
    "\n",
    "# Tests parameters\n",
    "FORMAT = 'sgy'\n",
    "N_SLIDE = 1000\n",
    "N_CROP = 300\n",
    "SEED = 42\n",
    "ATTRIBUTES_NAMES = ['snr', 'std_matrix', 'quality_map', 'quality_grid']\n",
    "\n",
    "# Visualization parameters\n",
    "SCALE = 1\n",
    "\n",
    "# Output parameters\n",
    "VERBOSE = True"
   ]
  },
  {
   "cell_type": "code",
   "execution_count": null,
   "metadata": {},
   "outputs": [],
   "source": [
    "# Path to cube (depends on the data format)\n",
    "OUTPUT_DIR = os.path.join(TESTS_ROOT_DIR, \"geometry_test_files\")\n",
    "CUBE_NAME = f'test_cube_{DATESTAMP}.{FORMAT}'\n",
    "CUBE_PATH = os.path.join(OUTPUT_DIR, CUBE_NAME)\n",
    "\n",
    "# Data for tests:\n",
    "with open(os.path.join(OUTPUT_DIR, f'test_array_{DATESTAMP}.npy'), 'rb') as infile:\n",
    "    data_array = np.load(infile)"
   ]
  },
  {
   "cell_type": "markdown",
   "metadata": {},
   "source": [
    "# Tests"
   ]
  },
  {
   "cell_type": "code",
   "execution_count": null,
   "metadata": {},
   "outputs": [],
   "source": [
    "%%time\n",
    "geometry = SeismicGeometry(CUBE_PATH)"
   ]
  },
  {
   "cell_type": "code",
   "execution_count": null,
   "metadata": {},
   "outputs": [],
   "source": [
    "# Check data\n",
    "geometry_data = geometry[:, :, :].ravel()\n",
    "\n",
    "if not geometry.quantized:\n",
    "    error_msg = \"Check data test failed: data is not the same\"\n",
    "    assert (geometry_data == data_array.ravel()).all(), error_msg\n",
    "else:\n",
    "    corr = np.corrcoef(geometry_data, data_array.ravel())[0, 1]\n",
    "    assert corr >=0.9, \"Check data test failed: data is not correlated\""
   ]
  },
  {
   "cell_type": "code",
   "execution_count": null,
   "metadata": {},
   "outputs": [],
   "source": [
    "# Attributes loading\n",
    "geometry.make_quality_map(\n",
    "    [0.1], ['support_js', 'support_hellinger'], safe_strip=0\n",
    ") # safe_strip=0 because data is a noise and otherwise haven't good traces\n",
    "\n",
    "for attr_name in ATTRIBUTES_NAMES:\n",
    "    attr = geometry.__getattr__(key=attr_name)\n",
    "\n",
    "    error_msg = f\"Attributes loading test failed (the gettattr method for {attr_name})\"\n",
    "    assert attr is not None, error_msg\n",
    "\n",
    "    attr = geometry.load_attribute(src=attr_name)\n",
    "\n",
    "    error_msg = f\"Attributes loading test failed (the load_attribute method for {attr_name})\"\n",
    "    assert attr is not None, error_msg\n",
    "\n",
    "    if VERBOSE:\n",
    "        print(f\"Attribute {attr_name} was successfully loaded.\")"
   ]
  },
  {
   "cell_type": "code",
   "execution_count": null,
   "metadata": {},
   "outputs": [],
   "source": [
    "# Slide loading\n",
    "axis = np.random.randint(3)\n",
    "loc = np.random.randint(geometry.cube_shape[axis])\n",
    "data_slice = [slice(None) for i in range(axis)]\n",
    "data_slice.append(loc)\n",
    "\n",
    "geometry_slide = geometry.load_slide(loc=loc, axis=axis)\n",
    "data_slide = data_array[tuple(data_slice)]\n",
    "\n",
    "if not geometry.quantized:\n",
    "    error_msg = \"Slide loading test failed: data is not the same\"\n",
    "    assert (geometry_slide == data_slide).all(), error_msg\n",
    "else:\n",
    "    corr = np.corrcoef(geometry_slide.ravel(), data_slide.ravel())[0, 1]\n",
    "    assert corr >=0.9, \"Slide loading test failed: data is not correlated\""
   ]
  },
  {
   "cell_type": "code",
   "execution_count": null,
   "metadata": {},
   "outputs": [],
   "source": [
    "# Crop loading\n",
    "point = np.random.randint(geometry.cube_shape) // 2\n",
    "shape = np.random.randint((5, 5, 5), (200, 200, 200))\n",
    "locations = [slice(start_, np.clip(start_+shape_, 0, max_shape))\n",
    "             for start_, shape_, max_shape in zip(point, shape, geometry.cube_shape)]\n",
    "\n",
    "geometry_crop = geometry.load_crop(locations=locations)\n",
    "data_crop = data_array[tuple(locations)]\n",
    "\n",
    "if not geometry.quantized:\n",
    "    error_msg = \"Crop loading test failed: data is not the same\"\n",
    "    assert (geometry_crop == data_crop).all(), error_msg\n",
    "else:\n",
    "    corr = np.corrcoef(geometry_crop.ravel(), data_crop.ravel())[0, 1]\n",
    "    assert corr >=0.9, \"Crop loading test failed: data is not correlated\""
   ]
  },
  {
   "cell_type": "code",
   "execution_count": null,
   "metadata": {},
   "outputs": [],
   "source": [
    "# Visualizations\n",
    "axis = np.random.randint(3)\n",
    "loc = np.random.randint(geometry.cube_shape[axis])\n",
    "\n",
    "geometry.show_slide(loc=loc, axis=axis, scale=SCALE)\n",
    "geometry.show_histogram(hist_log=True, scale=SCALE)\n",
    "\n",
    "geometry.show(matrix='mean_matrix', scale=SCALE)\n",
    "geometry.show(matrix='snr', scale=SCALE)\n",
    "\n",
    "geometry.show_quality_map(scale=SCALE)\n",
    "geometry.show_quality_grid(scale=SCALE)"
   ]
  },
  {
   "cell_type": "code",
   "execution_count": null,
   "metadata": {},
   "outputs": [],
   "source": [
    "# Timings\n",
    "timings = geometry.benchmark(n_slide=N_SLIDE, n_crop=N_CROP, use_cache=False, seed=SEED)\n",
    "timings = {FORMAT.upper(): timings}"
   ]
  }
 ],
 "metadata": {
  "kernelspec": {
   "display_name": "Python 3 (ipykernel)",
   "language": "python",
   "name": "python3"
  },
  "language_info": {
   "codemirror_mode": {
    "name": "ipython",
    "version": 3
   },
   "file_extension": ".py",
   "mimetype": "text/x-python",
   "name": "python",
   "nbconvert_exporter": "python",
   "pygments_lexer": "ipython3",
   "version": "3.8.10"
  }
 },
 "nbformat": 4,
 "nbformat_minor": 4
}
