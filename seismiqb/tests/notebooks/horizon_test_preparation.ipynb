{
 "cells": [
  {
   "cell_type": "code",
   "execution_count": null,
   "metadata": {},
   "outputs": [],
   "source": [
    "# This notebook consists of actions for preparation for Horizon tests\n",
    "# It creates a fake cube with horizon\n",
    "import os\n",
    "import sys\n",
    "import shutil\n",
    "from datetime import date\n",
    "import warnings\n",
    "import numpy as np\n",
    "\n",
    "warnings.filterwarnings(\"ignore\")\n",
    "\n",
    "sys.path.append('../../../seismiqb')\n",
    "\n",
    "from seismiqb.src.synthetic import generate_synthetic\n",
    "from seismiqb.src.geometry.export import make_segy_from_array\n",
    "from seismiqb import Horizon, Field"
   ]
  },
  {
   "cell_type": "code",
   "execution_count": null,
   "metadata": {},
   "outputs": [],
   "source": [
    "\"\"\" You can manage notebook execution kwargs which relates to cube and horizon for the test:\n",
    "\n",
    "SYNTHETIC_MODE : bool\n",
    "    Whether to create a synthetic data (cube and horizon) or use existed, provided by paths.\n",
    "CUBE_PATH : str or None\n",
    "    Path to an existed seismic cube.\n",
    "    Notice that it is only used with SYNTHETIC_MODE = False.\n",
    "HORIZON_PATH : str or None\n",
    "    Path to an existed seismic horizon.\n",
    "    Notice that it is only used with SYNTHETIC_MODE = False.\n",
    "CUBE_SHAPE : sequence of three integers\n",
    "    Shape of a synthetic cube.\n",
    "GRID_SHAPE: sequence of two integers\n",
    "    Sets the shape of grid of support points for surfaces' interpolation\n",
    "    (surfaces represent horizons).\n",
    "SEED: int or None\n",
    "    Seed used for creation of random generator (check out `np.random.default_rng`).\n",
    "\"\"\"\n",
    "\n",
    "# Workspace constants\n",
    "DATESTAMP = date.today().strftime(\"%Y-%m-%d\")\n",
    "TESTS_ROOT_DIR = './'\n",
    "\n",
    "# Synthetic creation parameters\n",
    "SYNTHETIC_MODE = True\n",
    "CUBE_PATH = None\n",
    "HORIZON_PATH = None\n",
    "CUBE_SHAPE = (500, 500, 200)\n",
    "GRID_SHAPE = (10, 10)\n",
    "SEED = 42\n",
    "\n",
    "# Visualization parameters\n",
    "SCALE = 1\n",
    "SHOW_FIGURES = False"
   ]
  },
  {
   "cell_type": "markdown",
   "metadata": {},
   "source": [
    "# Preparation\n",
    "\n",
    "Create directories for files and create a fake cube with horizons and save cube and one horizon."
   ]
  },
  {
   "cell_type": "markdown",
   "metadata": {},
   "source": [
    "**Storage structure:**\n",
    "___\n",
    "\n",
    "\n",
    "\n",
    "**horizon_test_files** (tests root directory)\n",
    "\n",
    "&emsp;├── **test_cube.sgy**\n",
    "\n",
    "&emsp;├── **test_cube.meta**\n",
    "    \n",
    "&emsp;└── **test_horizon**\n"
   ]
  },
  {
   "cell_type": "code",
   "execution_count": null,
   "metadata": {},
   "outputs": [],
   "source": [
    "# (Re)create the test directory\n",
    "OUTPUT_DIR = os.path.join(TESTS_ROOT_DIR, \"horizon_test_files\")\n",
    "\n",
    "if os.path.exists(OUTPUT_DIR):\n",
    "    shutil.rmtree(OUTPUT_DIR)\n",
    "\n",
    "os.makedirs(OUTPUT_DIR)"
   ]
  },
  {
   "cell_type": "code",
   "execution_count": null,
   "metadata": {},
   "outputs": [],
   "source": [
    "%%time\n",
    "# Synthetic data creation\n",
    "if SYNTHETIC_MODE:\n",
    "    CUBE_PATH = os.path.join(OUTPUT_DIR, f\"test_cube_{DATESTAMP}.sgy\")\n",
    "    HORIZON_PATH = os.path.join(OUTPUT_DIR, f\"test_horizon_{DATESTAMP}\")\n",
    "\n",
    "    # Create a cube and save it\n",
    "    synt3d, hors, _ = generate_synthetic(shape=CUBE_SHAPE, grid_shape=GRID_SHAPE,\n",
    "                                         num_reflections=60,\n",
    "                                         geobodies_format=('heights', 'mask'), seed=SEED)\n",
    "\n",
    "    # Create zero traces in the cube (for testing filetring)\n",
    "    FILL_VALUE = -999999\n",
    "    points = (\n",
    "        slice(0, CUBE_SHAPE[0]//10, None),\n",
    "        slice(CUBE_SHAPE[0]//10, CUBE_SHAPE[0]//5, None),\n",
    "        slice(None)\n",
    "    )\n",
    "    synt3d[points] = FILL_VALUE\n",
    "\n",
    "    make_segy_from_array(synt3d, CUBE_PATH, zip_segy=False)\n",
    "\n",
    "    # Check cube\n",
    "    field = Field(CUBE_PATH)\n",
    "\n",
    "    assert np.allclose(field.geometry[:, :, :], synt3d)\n",
    "\n",
    "    # Choose one horizon and save it\n",
    "    horizons = [Horizon(hor, field, 'synthetic_' + str(i)) for i, hor in enumerate(hors)]\n",
    "    horizon = horizons[0]\n",
    "\n",
    "    horizon.dump(HORIZON_PATH)\n",
    "\n",
    "    # Check horizon\n",
    "    opened_horizon = Horizon(HORIZON_PATH, field=field)\n",
    "\n",
    "    assert np.array_equal(horizon.matrix, opened_horizon.matrix)\n",
    "    assert np.array_equal(horizon.points, opened_horizon.points)\n",
    "\n",
    "    opened_horizon.filter()\n",
    "    opened_horizon.show(show=SHOW_FIGURES, scale=SCALE)"
   ]
  }
 ],
 "metadata": {
  "kernelspec": {
   "display_name": "Python 3 (ipykernel)",
   "language": "python",
   "name": "python3"
  },
  "language_info": {
   "codemirror_mode": {
    "name": "ipython",
    "version": 3
   },
   "file_extension": ".py",
   "mimetype": "text/x-python",
   "name": "python",
   "nbconvert_exporter": "python",
   "pygments_lexer": "ipython3",
   "version": "3.8.10"
  }
 },
 "nbformat": 4,
 "nbformat_minor": 4
}
