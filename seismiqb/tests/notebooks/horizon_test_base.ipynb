{
 "cells": [
  {
   "cell_type": "code",
   "execution_count": null,
   "metadata": {},
   "outputs": [],
   "source": [
    "# Tests for base Horizon functionality\n",
    "import os\n",
    "import sys\n",
    "import warnings\n",
    "import numpy as np\n",
    "\n",
    "warnings.filterwarnings('ignore')\n",
    "\n",
    "sys.path.append('../..') # for running py-script\n",
    "sys.path.append('../../..') # for running this notebook directly\n",
    "\n",
    "from seismiqb import Field, Horizon"
   ]
  },
  {
   "cell_type": "code",
   "execution_count": null,
   "metadata": {},
   "outputs": [],
   "source": [
    "# Workspace constants\n",
    "TESTS_ROOT_DIR = './'\n",
    "\n",
    "# Visualization parameters\n",
    "SCALE = 1\n",
    "SHOW_FIGURES = True"
   ]
  },
  {
   "cell_type": "code",
   "execution_count": null,
   "metadata": {},
   "outputs": [],
   "source": [
    "# Tests parameters\n",
    "OUTPUT_DIR = os.path.join(TESTS_ROOT_DIR, f\"horizon_test_files\")\n",
    "\n",
    "CUBE_PATH = os.path.join(OUTPUT_DIR, f\"test_cube_{DATESTAMP}.sgy\")\n",
    "HORIZON_PATH = os.path.join(OUTPUT_DIR, f\"test_horizon_{DATESTAMP}\")"
   ]
  },
  {
   "cell_type": "code",
   "execution_count": null,
   "metadata": {},
   "outputs": [],
   "source": [
    "def test_horizons_equality(horizon_1, horizon_2, test_name):\n",
    "    \" Check two horizons equality.\"\n",
    "    assert np.array_equal(horizon_1.full_matrix, horizon_2.full_matrix), f\"{test_name} test failed\"\n",
    "    assert np.array_equal(horizon_1.points, horizon_2.points), f\"{test_name} test failed\""
   ]
  },
  {
   "cell_type": "markdown",
   "metadata": {},
   "source": [
    "# Initialization"
   ]
  },
  {
   "cell_type": "code",
   "execution_count": null,
   "metadata": {},
   "outputs": [],
   "source": [
    "print(CUBE_PATH, '\\n', HORIZON_PATH, '\\n')\n",
    "print(os.getcwd())\n",
    "print(os.listdir(os.getcwd()))"
   ]
  },
  {
   "cell_type": "code",
   "execution_count": null,
   "metadata": {},
   "outputs": [],
   "source": [
    "%%time\n",
    "field = Field(CUBE_PATH)\n",
    "\n",
    "# init from_file\n",
    "horizon = Horizon(HORIZON_PATH, field=field)\n",
    "\n",
    "horizon.show(show=SHOW_FIGURES, scale=SCALE)"
   ]
  },
  {
   "cell_type": "code",
   "execution_count": null,
   "metadata": {},
   "outputs": [],
   "source": [
    "%%time\n",
    "# from_points init\n",
    "new_horizon = Horizon(storage=horizon.points, field=horizon.field, name=\"tester\")\n",
    "\n",
    "test_horizons_equality(horizon, new_horizon, test_name=\"from_points init\")"
   ]
  },
  {
   "cell_type": "code",
   "execution_count": null,
   "metadata": {},
   "outputs": [],
   "source": [
    "%%time\n",
    "# from_matrix init\n",
    "new_horizon = Horizon(storage=horizon.matrix, i_min=horizon.i_min, x_min=horizon.x_min,\n",
    "                      field=horizon.field, name=\"tester\")\n",
    "\n",
    "test_horizons_equality(horizon, new_horizon, test_name=\"from_matrix init\")"
   ]
  },
  {
   "cell_type": "code",
   "execution_count": null,
   "metadata": {},
   "outputs": [],
   "source": [
    "%%time\n",
    "# from_full_matrix init\n",
    "new_horizon = Horizon(storage=horizon.full_matrix,\n",
    "                      field=horizon.field, name=\"tester\")\n",
    "\n",
    "test_horizons_equality(horizon, new_horizon, test_name=\"from_full_matrix init\")"
   ]
  },
  {
   "cell_type": "code",
   "execution_count": null,
   "metadata": {},
   "outputs": [],
   "source": [
    "%%time\n",
    "# from_dict\n",
    "horizon_dict = {}\n",
    "for k, v in zip(horizon.points[:, :2], horizon.points[:, 2]):\n",
    "    horizon_dict[tuple(k)] = v\n",
    "\n",
    "new_horizon = Horizon(storage=horizon_dict, transform=False, field=horizon.field, name=\"tester\")\n",
    "\n",
    "test_horizons_equality(horizon, new_horizon, test_name=\"from_dict init\")"
   ]
  },
  {
   "cell_type": "markdown",
   "metadata": {},
   "source": [
    "# Dump"
   ]
  },
  {
   "cell_type": "code",
   "execution_count": null,
   "metadata": {},
   "outputs": [],
   "source": [
    "tmp_horizon_path = os.path.join(OUTPUT_DIR, \"tmp_horizon\")"
   ]
  },
  {
   "cell_type": "code",
   "execution_count": null,
   "metadata": {},
   "outputs": [],
   "source": [
    "%%time\n",
    "# dump\n",
    "horizon.dump(path=tmp_horizon_path)\n",
    "\n",
    "dumped_horizon = Horizon(storage=tmp_horizon_path, field=field)\n",
    "\n",
    "test_horizons_equality(horizon, dumped_horizon, test_name=\"dump\")\n",
    "\n",
    "os.remove(tmp_horizon_path)"
   ]
  },
  {
   "cell_type": "code",
   "execution_count": null,
   "metadata": {},
   "outputs": [],
   "source": [
    "%%time\n",
    "# dump_float\n",
    "margin = 2\n",
    "horizon.dump_float(path=tmp_horizon_path, margin=margin)\n",
    "\n",
    "dumped_horizon = Horizon(storage=tmp_horizon_path, field=field)\n",
    "\n",
    "assert np.all(\n",
    "    np.isclose(horizon.points, dumped_horizon.points, atol=margin)\n",
    "), \"dump_float test failed\"\n",
    "\n",
    "os.remove(tmp_horizon_path)"
   ]
  },
  {
   "cell_type": "markdown",
   "metadata": {},
   "source": [
    "# Base methods"
   ]
  },
  {
   "cell_type": "code",
   "execution_count": null,
   "metadata": {},
   "outputs": [],
   "source": [
    "%%time\n",
    "horizon_points_from_matrix = Horizon.matrix_to_points(matrix=horizon.matrix)\n",
    "\n",
    "# Shift (it exists in methods that call `matrix_to_points`)\n",
    "horizon_points_from_matrix[:, 0] += horizon.i_min\n",
    "horizon_points_from_matrix[:, 1] += horizon.x_min\n",
    "\n",
    "assert np.array_equal(horizon.points, horizon_points_from_matrix), \"matrix_to_points test failed\""
   ]
  },
  {
   "cell_type": "code",
   "execution_count": null,
   "metadata": {},
   "outputs": [],
   "source": [
    "%%time\n",
    "horizon_matrix_from_points = Horizon.points_to_matrix(\n",
    "    points=horizon.points, i_min=horizon.i_min, x_min=horizon.x_min,\n",
    "    i_length=horizon.i_length, x_length=horizon.x_length\n",
    ")\n",
    "\n",
    "assert np.array_equal(horizon.matrix, horizon_matrix_from_points), \"points_to_matrix test failed\""
   ]
  },
  {
   "cell_type": "markdown",
   "metadata": {},
   "source": [
    "# Evaluate"
   ]
  },
  {
   "cell_type": "code",
   "execution_count": null,
   "metadata": {},
   "outputs": [],
   "source": [
    "%%time\n",
    "_ = horizon.evaluate(scale=SCALE, bad_color='black')"
   ]
  },
  {
   "cell_type": "markdown",
   "metadata": {},
   "source": [
    "# Get values"
   ]
  },
  {
   "cell_type": "code",
   "execution_count": null,
   "metadata": {},
   "outputs": [],
   "source": [
    "%%time\n",
    "axis = 0\n",
    "loc = horizon.shape[axis] // 2\n",
    "_ = horizon.load_slide(loc=loc, axis=axis)\n",
    "\n",
    "horizon.show_slide(show=SHOW_FIGURES, loc=loc, axis=axis, scale=SCALE)"
   ]
  },
  {
   "cell_type": "markdown",
   "metadata": {},
   "source": [
    "# Visualizations"
   ]
  },
  {
   "cell_type": "code",
   "execution_count": null,
   "metadata": {},
   "outputs": [],
   "source": [
    "%%time\n",
    "# Attributes visualizations are in another notebook\n",
    "horizon.show(scale=SCALE)\n",
    "\n",
    "# Show slide\n",
    "axis = 0\n",
    "loc = horizon.shape[axis] // 2\n",
    "\n",
    "horizon.show_slide(loc=loc, axis=axis, width=5, separate=True,\n",
    "                   cmap=['gray', 'viridis'], grid=False, scale=SCALE)"
   ]
  }
 ],
 "metadata": {
  "kernelspec": {
   "display_name": "Python 3 (ipykernel)",
   "language": "python",
   "name": "python3"
  },
  "language_info": {
   "codemirror_mode": {
    "name": "ipython",
    "version": 3
   },
   "file_extension": ".py",
   "mimetype": "text/x-python",
   "name": "python",
   "nbconvert_exporter": "python",
   "pygments_lexer": "ipython3",
   "version": "3.8.10"
  }
 },
 "nbformat": 4,
 "nbformat_minor": 4
}
