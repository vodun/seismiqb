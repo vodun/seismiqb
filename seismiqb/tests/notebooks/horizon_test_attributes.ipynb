{
 "cells": [
  {
   "cell_type": "code",
   "execution_count": null,
   "metadata": {},
   "outputs": [],
   "source": [
    "# Tests for Horizon attributes\n",
    "import os\n",
    "import sys\n",
    "from datetime import date\n",
    "import warnings\n",
    "import numpy as np\n",
    "\n",
    "warnings.filterwarnings('ignore')\n",
    "\n",
    "sys.path.append('../../../seismiqb')\n",
    "\n",
    "from seismiqb import Field, SeismicGeometry, Horizon"
   ]
  },
  {
   "cell_type": "code",
   "execution_count": null,
   "metadata": {},
   "outputs": [],
   "source": [
    "# Workspace constants\n",
    "DATESTAMP = date.today().strftime(\"%Y-%m-%d\")\n",
    "TESTS_ROOT_DIR = './'\n",
    "\n",
    "# Visualization parameters\n",
    "SCALE = 1\n",
    "\n",
    "# Tests parameters\n",
    "ATTRS_LIST = ['amplitudes', 'depths', 'instant_phases',\n",
    "              'instant_amplitudes', 'fourier', 'wavelet', 'masks']"
   ]
  },
  {
   "cell_type": "code",
   "execution_count": null,
   "metadata": {},
   "outputs": [],
   "source": [
    "# Tests parameters\n",
    "OUTPUT_DIR = os.path.join(TESTS_ROOT_DIR, \"horizon_test_files\")\n",
    "\n",
    "CUBE_PATH = os.path.join(OUTPUT_DIR, f\"test_cube_{DATESTAMP}.sgy\")\n",
    "HORIZON_PATH = os.path.join(OUTPUT_DIR, f\"test_horizon_{DATESTAMP}\")"
   ]
  },
  {
   "cell_type": "code",
   "execution_count": null,
   "metadata": {},
   "outputs": [],
   "source": [
    "%%time\n",
    "geometry = SeismicGeometry(CUBE_PATH)\n",
    "field = Field(geometry)\n",
    "\n",
    "# Init from_file\n",
    "horizon = Horizon(HORIZON_PATH, field=field)\n",
    "\n",
    "# Make it pretty:\n",
    "horizon.filter()"
   ]
  },
  {
   "cell_type": "markdown",
   "metadata": {},
   "source": [
    "# Operations with FILL_VALUE"
   ]
  },
  {
   "cell_type": "code",
   "execution_count": null,
   "metadata": {},
   "outputs": [],
   "source": [
    "%%time\n",
    "horizon_copy = horizon.__copy__()\n",
    "\n",
    "# Change fill_value to a new one\n",
    "new_fill_value = -10\n",
    "\n",
    "# New and old fill_values amount before filling\n",
    "n_fill_value = np.sum(horizon_copy.matrix == new_fill_value)\n",
    "n_absent = np.sum(horizon_copy.matrix == horizon_copy.FILL_VALUE)\n",
    "\n",
    "horizon_copy.matrix_fill_to_num(matrix=horizon_copy.matrix, value=new_fill_value)\n",
    "\n",
    "# New fill_values amount after filling\n",
    "new_n_fill_value = np.sum(horizon_copy.matrix == new_fill_value)\n",
    "\n",
    "assert new_n_fill_value == n_fill_value + n_absent, \"matrix_fill_to_num test failed\""
   ]
  },
  {
   "cell_type": "code",
   "execution_count": null,
   "metadata": {},
   "outputs": [],
   "source": [
    "%%time\n",
    "# Reverse filling: new fill_value to old\n",
    "horizon_copy.matrix_num_to_fill(matrix=horizon_copy.matrix, value=new_fill_value)\n",
    "\n",
    "old_n_fill_value = np.sum(horizon_copy.matrix == horizon_copy.FILL_VALUE)\n",
    "\n",
    "assert old_n_fill_value == new_n_fill_value, \"matrix_num_to_fill test failed\""
   ]
  },
  {
   "cell_type": "markdown",
   "metadata": {},
   "source": [
    "# Matrix operations"
   ]
  },
  {
   "cell_type": "code",
   "execution_count": null,
   "metadata": {},
   "outputs": [],
   "source": [
    "%%time\n",
    "# Normalize\n",
    "# Min-max\n",
    "horizon_copy = horizon.__copy__()\n",
    "\n",
    "normalized_matrix = horizon_copy.matrix_normalize(matrix=horizon_copy.full_matrix, mode=\"min-max\")\n",
    "\n",
    "error_msg = \"min-max matrix normalization test failed\"\n",
    "assert np.isclose(np.nanmin(normalized_matrix[horizon_copy.presence_matrix]), 0), error_msg\n",
    "assert np.isclose(np.nanmax(normalized_matrix[horizon_copy.presence_matrix]), 1), error_msg\n",
    "\n",
    "# Mean-std\n",
    "horizon_copy = horizon.__copy__()\n",
    "\n",
    "normalized_matrix = horizon_copy.matrix_normalize(matrix=horizon_copy.full_matrix, mode=\"mean-std\")\n",
    "\n",
    "error_msg = \"mean-std matrix normalization test failed\"\n",
    "assert np.isclose(np.nanmean(normalized_matrix[horizon_copy.presence_matrix]), 0), error_msg\n",
    "assert np.isclose(np.nanstd(normalized_matrix[horizon_copy.presence_matrix]), 1), error_msg"
   ]
  },
  {
   "cell_type": "markdown",
   "metadata": {},
   "source": [
    "# Properties"
   ]
  },
  {
   "cell_type": "code",
   "execution_count": null,
   "metadata": {},
   "outputs": [],
   "source": [
    "%%time\n",
    "_ = horizon.binary_matrix\n",
    "_ = horizon.presence_matrix\n",
    "_ = horizon.borders_matrix\n",
    "_ = horizon.boundaries_matrix\n",
    "_ = horizon.filled_matrix"
   ]
  },
  {
   "cell_type": "markdown",
   "metadata": {},
   "source": [
    "# Get attributes"
   ]
  },
  {
   "cell_type": "code",
   "execution_count": null,
   "metadata": {},
   "outputs": [],
   "source": [
    "%%time\n",
    "sides = [-1, 1]\n",
    "\n",
    "for side in sides:\n",
    "    _ = horizon.get_zerocrossings(side=side)\n",
    "\n",
    "    print(f\"{side} side was successfully checked.\")"
   ]
  },
  {
   "cell_type": "code",
   "execution_count": null,
   "metadata": {},
   "outputs": [],
   "source": [
    "%%time\n",
    "_ = horizon.get_median_diff_map()\n",
    "_ = horizon.get_gradient_map()\n",
    "_ = horizon.get_spikes_map()"
   ]
  },
  {
   "cell_type": "markdown",
   "metadata": {},
   "source": [
    "# Loading attributes"
   ]
  },
  {
   "cell_type": "code",
   "execution_count": null,
   "metadata": {},
   "outputs": [],
   "source": [
    "%%time\n",
    "metrics = horizon.load_attribute('metrics', metric='local_corrs', normalize='min-max')"
   ]
  },
  {
   "cell_type": "code",
   "execution_count": null,
   "metadata": {},
   "outputs": [],
   "source": [
    "%%time\n",
    "N_COLS = 2\n",
    "\n",
    "horizon.show(ATTRS_LIST, separate=True, ncols=N_COLS, scale=SCALE)"
   ]
  }
 ],
 "metadata": {
  "kernelspec": {
   "display_name": "Python 3 (ipykernel)",
   "language": "python",
   "name": "python3"
  },
  "language_info": {
   "codemirror_mode": {
    "name": "ipython",
    "version": 3
   },
   "file_extension": ".py",
   "mimetype": "text/x-python",
   "name": "python",
   "nbconvert_exporter": "python",
   "pygments_lexer": "ipython3",
   "version": "3.8.10"
  }
 },
 "nbformat": 4,
 "nbformat_minor": 4
}
