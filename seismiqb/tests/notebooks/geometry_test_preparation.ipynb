{
 "cells": [
  {
   "cell_type": "code",
   "execution_count": null,
   "metadata": {},
   "outputs": [],
   "source": [
    "# This notebook consists of actions for preparation for SeismicGeometry tests\n",
    "# It creates a fake cube as random noise and convert it into available data formats\n",
    "import os\n",
    "import sys\n",
    "from datetime import date\n",
    "import shutil\n",
    "import warnings\n",
    "warnings.filterwarnings(\"ignore\")\n",
    "\n",
    "import numpy as np\n",
    "\n",
    "sys.path.append('../..') # for running tests py-script\n",
    "sys.path.append('../../..') # for running this notebook directly\n",
    "from seismiqb import SeismicGeometry\n",
    "from seismiqb.src.geometry import export"
   ]
  },
  {
   "cell_type": "code",
   "execution_count": null,
   "metadata": {},
   "outputs": [],
   "source": [
    "# Workspace constants\n",
    "DATESTAMP = date.today().strftime(\"%Y-%m-%d\")\n",
    "TESTS_ROOT_DIR = './'\n",
    "\n",
    "# Data creation parameters\n",
    "CUBE_NAME = f'test_cube_{DATESTAMP}.sgy'\n",
    "CUBE_SHAPE = (1000, 200, 400)\n",
    "SEED = 42\n",
    "\n",
    "# Data formats for which running tests\n",
    "FORMATS = ['sgy', 'hdf5', 'qhdf5', 'blosc', 'qblosc']"
   ]
  },
  {
   "cell_type": "markdown",
   "metadata": {},
   "source": [
    "# Prepare a workspace\n",
    "\n",
    "Create directories for files and create a fake cube and save it.\n",
    "\n",
    "**Storage structure:**\n",
    "___\n",
    "\n",
    "\n",
    "**geometry_test_files** (tests root directory)\n",
    "\n",
    "&emsp;├── **test_array.npy**\n",
    "\n",
    "&emsp;└── **test_cube.{DATAFORMAT}**\n",
    "\n",
    "---\n",
    " * **{DATAFORMAT}** means each data format from **FORMATS** list"
   ]
  },
  {
   "cell_type": "code",
   "execution_count": null,
   "metadata": {},
   "outputs": [],
   "source": [
    "OUTPUT_DIR = os.path.join(TESTS_ROOT_DIR, \"geometry_test_files\")\n",
    "\n",
    "# (Re)create the test directory\n",
    "if os.path.exists(OUTPUT_DIR):\n",
    "    shutil.rmtree(OUTPUT_DIR)\n",
    "\n",
    "os.makedirs(OUTPUT_DIR)"
   ]
  },
  {
   "cell_type": "code",
   "execution_count": null,
   "metadata": {},
   "outputs": [],
   "source": [
    "CUBE_PATH = os.path.join(OUTPUT_DIR, CUBE_NAME)\n",
    "TEST_PATH_DB = os.path.join(OUTPUT_DIR, 'geometry_test_db')"
   ]
  },
  {
   "cell_type": "markdown",
   "metadata": {},
   "source": [
    "# Create a fake cube"
   ]
  },
  {
   "cell_type": "code",
   "execution_count": null,
   "metadata": {},
   "outputs": [],
   "source": [
    "rng = np.random.default_rng(SEED)\n",
    "data_array = rng.normal(0, 1000, CUBE_SHAPE).astype(np.float32)"
   ]
  },
  {
   "cell_type": "code",
   "execution_count": null,
   "metadata": {},
   "outputs": [],
   "source": [
    "with open(os.path.join(OUTPUT_DIR, f'test_array_{DATESTAMP}.npy'), 'wb') as outfile:\n",
    "    np.save(outfile, data_array)"
   ]
  },
  {
   "cell_type": "code",
   "execution_count": null,
   "metadata": {},
   "outputs": [],
   "source": [
    "%%time\n",
    "export.make_segy_from_array(\n",
    "    array=data_array, path_segy=CUBE_PATH, zip_segy=False,\n",
    "    sample_rate=2., delay=50, pbar='t'\n",
    ")"
   ]
  },
  {
   "cell_type": "code",
   "execution_count": null,
   "metadata": {},
   "outputs": [],
   "source": [
    "%%time\n",
    "geometry_sgy = SeismicGeometry(\n",
    "    path=CUBE_PATH, process=True, collect_stats=True, spatial=True, pbar='t'\n",
    ")"
   ]
  },
  {
   "cell_type": "markdown",
   "metadata": {},
   "source": [
    "# Check data loading"
   ]
  },
  {
   "cell_type": "code",
   "execution_count": null,
   "metadata": {},
   "outputs": [],
   "source": [
    "%%time\n",
    "_ = SeismicGeometry(\n",
    "    path=CUBE_PATH,\n",
    "    headers=SeismicGeometry.HEADERS_POST_FULL,\n",
    "    index_headers=SeismicGeometry.INDEX_CDP\n",
    ")"
   ]
  },
  {
   "cell_type": "code",
   "execution_count": null,
   "metadata": {},
   "outputs": [],
   "source": [
    "%%time\n",
    "_ = SeismicGeometry(\n",
    "    path=CUBE_PATH,\n",
    "    headers=SeismicGeometry.HEADERS_POST_FULL,\n",
    "    index_headers=SeismicGeometry.INDEX_POST\n",
    ")"
   ]
  },
  {
   "cell_type": "markdown",
   "metadata": {},
   "source": [
    "# Conversion"
   ]
  },
  {
   "cell_type": "code",
   "execution_count": null,
   "metadata": {},
   "outputs": [],
   "source": [
    "for f in FORMATS:\n",
    "    if f != 'sgy':\n",
    "        _ = geometry_sgy.convert(format=f, quantize=False, store_meta=False, pbar='t')"
   ]
  }
 ],
 "metadata": {
  "kernelspec": {
   "display_name": "Python 3 (ipykernel)",
   "language": "python",
   "name": "python3"
  },
  "language_info": {
   "codemirror_mode": {
    "name": "ipython",
    "version": 3
   },
   "file_extension": ".py",
   "mimetype": "text/x-python",
   "name": "python",
   "nbconvert_exporter": "python",
   "pygments_lexer": "ipython3",
   "version": "3.8.10"
  }
 },
 "nbformat": 4,
 "nbformat_minor": 4
}
