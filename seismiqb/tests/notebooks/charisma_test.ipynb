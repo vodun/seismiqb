{
 "cells": [
  {
   "cell_type": "code",
   "execution_count": null,
   "metadata": {},
   "outputs": [],
   "source": [
    "# This file contains tests for CharismaMixin\n",
    "import os\n",
    "import sys\n",
    "from datetime import date\n",
    "import shutil\n",
    "import warnings\n",
    "warnings.filterwarnings('ignore')\n",
    "\n",
    "import numpy as np\n",
    "\n",
    "sys.path.append('../..') # for running py-script\n",
    "sys.path.append('../../..') # for running this notebook directly\n",
    "\n",
    "from seismiqb import Field\n",
    "from seismiqb.src.geometry import export"
   ]
  },
  {
   "cell_type": "code",
   "execution_count": null,
   "metadata": {},
   "outputs": [],
   "source": [
    "\"\"\" The behaviour of tests is parametrized by the following constants:\n",
    "\n",
    "DATESTAMP : str\n",
    "    Execution date in \"YYYY-MM-DD\" format.\n",
    "    Used for saving notebooks executions and temporary files.\n",
    "USE_TMP_OUTPUT_DIR: bool\n",
    "    Whether to use pytest tmpdir as a workspace.\n",
    "    If True, then all files are saved in temporary directories.\n",
    "    If False, then all files are saved in local directories.\n",
    "OUTPUT_DIR : str\n",
    "    Path to the directory for saving results and temporary files\n",
    "    (executed notebooks, logs, data files like cubes, etc.).\n",
    "\n",
    "And you can manage tests running with parameters:\n",
    "\n",
    "REMOVE_OUTDATED_FILES: bool\n",
    "    Whether to remove outdated files which relate to previous executions.\n",
    "REMOVE_EXTRA_FILES : bool\n",
    "    Whether to remove extra files after execution.\n",
    "    Extra files are temporary files and execution savings that relate to successful tests.\n",
    "\n",
    "You can manage parameters which relates to a cube generation:\n",
    "\n",
    "CUBE_SHAPE : sequence of three integers\n",
    "    Shape of a synthetic cube.\n",
    "SEED: int or None\n",
    "    Seed used for creation of random generator (check out `np.random.default_rng`).\n",
    "\"\"\"\n",
    "\n",
    "# Defaults for run directly this notebook\n",
    "# Workspace constants\n",
    "DATESTAMP = date.today().strftime(\"%Y-%m-%d\")\n",
    "USE_TMP_OUTPUT_DIR = False\n",
    "TESTS_ROOT_DIR = './'\n",
    "\n",
    "# Execution parameters\n",
    "REMOVE_EXTRA_FILES = True\n",
    "\n",
    "# Data creation parameters\n",
    "CUBE_SHAPE = (100, 100, 100)\n",
    "SEED = 10"
   ]
  },
  {
   "cell_type": "markdown",
   "metadata": {},
   "source": [
    "# Preparation"
   ]
  },
  {
   "cell_type": "markdown",
   "metadata": {},
   "source": [
    "**Storage structure:**\n",
    "___\n",
    "\n",
    "\n",
    "\n",
    "**charisma_test_files** (tests root directory with temporary files)\n",
    "\n",
    "&emsp;├── **test_array.npy** (Test cube data, now it is a random noise)\n",
    "\n",
    "&emsp;├── **test_cube.sgy** (Test cube data in the sgy format)\n",
    "\n",
    "&emsp;├── **test_cube.meta** (Meta data of the test cube)\n",
    "    \n",
    "&emsp;├── **test_matrix** (Saved test matrix)\n",
    "\n",
    "&emsp;└── **test_points** (Saved test points)\n"
   ]
  },
  {
   "cell_type": "code",
   "execution_count": null,
   "metadata": {},
   "outputs": [],
   "source": [
    "# (Re)create the test directory\n",
    "OUTPUT_DIR = os.path.join(TESTS_ROOT_DIR, f\"charisma_test_files\")\n",
    "\n",
    "if os.path.exists(OUTPUT_DIR):\n",
    "    shutil.rmtree(OUTPUT_DIR)\n",
    "\n",
    "os.makedirs(OUTPUT_DIR, exist_ok=True)"
   ]
  },
  {
   "cell_type": "code",
   "execution_count": null,
   "metadata": {},
   "outputs": [],
   "source": [
    "%%time\n",
    "# Create a fake cube\n",
    "CUBE_PATH = os.path.join(OUTPUT_DIR, f\"test_cube_{DATESTAMP}.sgy\")\n",
    "\n",
    "rng = np.random.default_rng(SEED)\n",
    "data_array = rng.normal(0, 1000, CUBE_SHAPE).astype(np.float32)\n",
    "\n",
    "with open(os.path.join(OUTPUT_DIR, f\"test_array_{DATESTAMP}.npy\"), \"wb\") as outfile:\n",
    "    np.save(outfile, data_array)\n",
    "\n",
    "export.make_segy_from_array(array=data_array, path_segy=CUBE_PATH, zip_segy=False,\n",
    "                            sample_rate=2., delay=50, pbar=\"t\")"
   ]
  },
  {
   "cell_type": "code",
   "execution_count": null,
   "metadata": {},
   "outputs": [],
   "source": [
    "%%time\n",
    "# Init a field\n",
    "field = Field(geometry=CUBE_PATH)"
   ]
  },
  {
   "cell_type": "markdown",
   "metadata": {},
   "source": [
    "# Tests"
   ]
  },
  {
   "cell_type": "code",
   "execution_count": null,
   "metadata": {},
   "outputs": [],
   "source": [
    "%%time\n",
    "# Test dump_charisma, load_charisma and is_charisma_like (matrix case)\n",
    "# Create and dump a random matrix\n",
    "matrix = rng.integers(low=0, high=10, size=CUBE_SHAPE[:2])\n",
    "\n",
    "path=os.path.join(OUTPUT_DIR, f\"test_matrix_{DATESTAMP}\")\n",
    "\n",
    "field.dump_charisma(data=matrix, path=path, format=\"matrix\", name=\"saved_matrix\")\n",
    "\n",
    "# Check is_charisma_like\n",
    "assert field.is_charisma_like(path), \"A dumped matrix file is not charisma-like.\"\n",
    "\n",
    "# Open saved data\n",
    "opened_matrix = field.load_charisma(path=path, format=\"matrix\")\n",
    "\n",
    "assert np.array_equal(matrix, opened_matrix), \"Saved and loaded matrices are not the same.\""
   ]
  },
  {
   "cell_type": "code",
   "execution_count": null,
   "metadata": {},
   "outputs": [],
   "source": [
    "%%time\n",
    "# Test dump_charisma, load_charisma and is_charisma_like (points case)\n",
    "# Create random points in the field\n",
    "i_lines_range = np.linspace(0, CUBE_SHAPE[0]-1, CUBE_SHAPE[0]).astype(int)\n",
    "x_lines_range = np.linspace(0, CUBE_SHAPE[1]-1, CUBE_SHAPE[1]).astype(int)\n",
    "\n",
    "i_lines, x_lines = np.meshgrid(i_lines_range, x_lines_range)\n",
    "\n",
    "depths = rng.integers(low=0, high=10, size=(i_lines.size, 1))\n",
    "\n",
    "points = np.hstack([i_lines.reshape(i_lines.size, 1), x_lines.reshape(x_lines.size, 1), depths])\n",
    "\n",
    "# Sort for dumped and loaded points consistency\n",
    "points = np.sort(points, axis=1)\n",
    "points = np.sort(points, axis=0)\n",
    "\n",
    "# Save points as charisma\n",
    "path=os.path.join(OUTPUT_DIR, f\"test_points_{DATESTAMP}\")\n",
    "\n",
    "field.dump_charisma(data=points, path=path, format=\"points\", name=\"saved_points\")\n",
    "\n",
    "# Check is_charisma_like\n",
    "assert field.is_charisma_like(path), \"A dumped points file is not charisma-like.\"\n",
    "\n",
    "# Open saved data\n",
    "opened_points = field.load_charisma(path=path, format=\"points\")\n",
    "\n",
    "assert np.array_equal(points, opened_points), \"Saved and loaded points arrays are not the same.\""
   ]
  },
  {
   "cell_type": "markdown",
   "metadata": {},
   "source": [
    "# Exit"
   ]
  },
  {
   "cell_type": "code",
   "execution_count": null,
   "metadata": {},
   "outputs": [],
   "source": [
    "if REMOVE_EXTRA_FILES:\n",
    "    shutil.rmtree(OUTPUT_DIR)"
   ]
  }
 ],
 "metadata": {
  "kernelspec": {
   "display_name": "Python 3 (ipykernel)",
   "language": "python",
   "name": "python3"
  },
  "language_info": {
   "codemirror_mode": {
    "name": "ipython",
    "version": 3
   },
   "file_extension": ".py",
   "mimetype": "text/x-python",
   "name": "python",
   "nbconvert_exporter": "python",
   "pygments_lexer": "ipython3",
   "version": "3.8.10"
  }
 },
 "nbformat": 4,
 "nbformat_minor": 4
}
