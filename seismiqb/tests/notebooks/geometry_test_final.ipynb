{
 "cells": [
  {
   "cell_type": "code",
   "execution_count": null,
   "id": "be0b1e36-ffb2-420c-a17e-5650d1cc425a",
   "metadata": {},
   "outputs": [],
   "source": [
    "import os\n",
    "import sys\n",
    "from datetime import date\n",
    "import json\n",
    "import warnings\n",
    "warnings.filterwarnings(\"ignore\")\n",
    "\n",
    "from matplotlib import pyplot as plt\n",
    "\n",
    "sys.path.append('../..') # for running tests py-script\n",
    "sys.path.append('../../..') # for running this notebook directly)\n",
    "from seismiqb.tests.utils import remove_paths"
   ]
  },
  {
   "cell_type": "code",
   "execution_count": null,
   "id": "aec99e37-fb85-4b2f-9d10-921b26daee7e",
   "metadata": {},
   "outputs": [],
   "source": [
    "\"\"\"\n",
    "You can manage test running with parameters:\n",
    "\n",
    "REMOVE_EXTRA_FILES : bool\n",
    "    Whether to remove extra files after execution.\n",
    "    Extra files are temporary files and execution savings that relate to successful tests.\n",
    "USE_TMP_OUTPUT_DIR : bool\n",
    "\n",
    "    \n",
    "    \n",
    "...!!...\n",
    "\"\"\"\n",
    "# Workspace constants\n",
    "DATESTAMP = date.today().strftime(\"%Y-%m-%d\")\n",
    "OUTPUT_DIR = './geometry_test_files/'\n",
    "LOGS_DIR = '../logs'\n",
    "\n",
    "# Tests running parameters\n",
    "REMOVE_EXTRA_FILES = True\n",
    "USE_TMP_OUTPUT_DIR = False"
   ]
  },
  {
   "cell_type": "markdown",
   "id": "556a7793-d8a1-4c77-a7ae-c241b99c3b45",
   "metadata": {},
   "source": [
    "# Info"
   ]
  },
  {
   "cell_type": "code",
   "execution_count": null,
   "id": "0e17c9e9-cd20-4696-968f-6e0292b1faec",
   "metadata": {},
   "outputs": [],
   "source": [
    "failed = False\n",
    "\n",
    "for k, v in states.items():\n",
    "    if v != 'OK':\n",
    "        states[k] = 'FAIL'\n",
    "        failed = True\n",
    "\n",
    "print(states)"
   ]
  },
  {
   "cell_type": "code",
   "execution_count": null,
   "id": "301410db-7722-4ef8-a169-c03398d7c97d",
   "metadata": {},
   "outputs": [],
   "source": [
    "# Check output\n",
    "print(json.dumps(timings, indent=4))"
   ]
  },
  {
   "cell_type": "code",
   "execution_count": null,
   "id": "4db1c69a-e184-43c1-9511-e8df411777f1",
   "metadata": {},
   "outputs": [],
   "source": [
    "# Visualize timings\n",
    "def plot_ax(dct, unit, title, ax):\n",
    "    \"\"\" Plot axis for a benchmark unit. \"\"\"\n",
    "    _ = ax.bar(dct.keys(), dct.values())\n",
    "    ax.set_title(title, fontsize=20)\n",
    "    ax.set_xlabel('Storage format', fontsize=16)\n",
    "    ax.set_ylabel(unit, fontsize=16)\n",
    "    return ax\n",
    "\n",
    "if timings:\n",
    "    fig, axs = plt.subplots(1, 2, figsize=(15, 6))\n",
    "    axs[0] = plot_ax(dct={key: value.get('slide', {}).get('wall', -1) for key, value in timings.items()},\n",
    "                     unit=\"Time, ms\", title=\"Slide loading timings\", ax=axs[0])\n",
    "    axs[1] = plot_ax(dct={key: value.get('crop', {}).get('wall', -1) for key, value in timings.items()},\n",
    "                     unit=\"Time, ms\", title=\"Crop loading timings\", ax=axs[1])\n",
    "    plt.show()"
   ]
  },
  {
   "cell_type": "markdown",
   "id": "308f4383-c638-497d-aaae-403ba83ecc0d",
   "metadata": {},
   "source": [
    "# Exit"
   ]
  },
  {
   "cell_type": "code",
   "execution_count": null,
   "id": "a93fd059-03bb-4a46-a968-97d0ec2e3dd3",
   "metadata": {},
   "outputs": [],
   "source": [
    "# Dump timings\n",
    "if failed:\n",
    "    timings['state'] = 'FAIL'\n",
    "else:\n",
    "    timings['state'] = 'OK'\n",
    "\n",
    "with open(os.path.join(LOGS_DIR, f'geometry_timings_{DATESTAMP}.json'), \"w\") as outfile:\n",
    "    json.dump(timings, outfile)"
   ]
  }
 ],
 "metadata": {
  "kernelspec": {
   "display_name": "Python 3 (ipykernel)",
   "language": "python",
   "name": "python3"
  },
  "language_info": {
   "codemirror_mode": {
    "name": "ipython",
    "version": 3
   },
   "file_extension": ".py",
   "mimetype": "text/x-python",
   "name": "python",
   "nbconvert_exporter": "python",
   "pygments_lexer": "ipython3",
   "version": "3.8.10"
  }
 },
 "nbformat": 4,
 "nbformat_minor": 5
}
