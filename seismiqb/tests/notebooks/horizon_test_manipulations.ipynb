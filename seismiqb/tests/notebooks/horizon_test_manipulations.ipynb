{
 "cells": [
  {
   "cell_type": "code",
   "execution_count": null,
   "metadata": {},
   "outputs": [],
   "source": [
    "# Tests for methods that manipulate with horizons\n",
    "import sys\n",
    "import warnings\n",
    "import numpy as np\n",
    "\n",
    "warnings.filterwarnings('ignore')\n",
    "\n",
    "sys.path.append('../..') # for running py-script\n",
    "sys.path.append('../../..') # for running this notebook directly\n",
    "\n",
    "from seismiqb import Field, Horizon, plot_image"
   ]
  },
  {
   "cell_type": "code",
   "execution_count": null,
   "metadata": {},
   "outputs": [],
   "source": [
    "\"\"\" You can manage notebook execution kwargs which relates to cube and horizon for the test:\n",
    "\n",
    "CUBE_PATH : str or None\n",
    "    Path to an existed seismic cube.\n",
    "HORIZON_PATH : str or None\n",
    "    Path to an existed seismic horizon.\n",
    "\n",
    "Visualizations in saved execution notebooks are controlled with:\n",
    "\n",
    "SCALE : int\n",
    "    Figures scale.\n",
    "SHOW_FIGURES : bool\n",
    "    Whether to show additional figures.\n",
    "    Showing some figures can be useful for finding out the reason for the failure of tests.\n",
    "\"\"\"\n",
    "# Workspace constants\n",
    "TESTS_ROOT_DIR = './'\n",
    "\n",
    "# Visualization parameters\n",
    "SCALE = 1\n",
    "SHOW_FIGURES = True"
   ]
  },
  {
   "cell_type": "code",
   "execution_count": null,
   "metadata": {},
   "outputs": [],
   "source": [
    "# Tests parameters\n",
    "OUTPUT_DIR = os.path.join(TESTS_ROOT_DIR, f\"horizon_test_files\")\n",
    "CUBE_PATH = os.path.join(OUTPUT_DIR, 'test_cube.sgy')\n",
    "HORIZON_PATH = os.path.join(OUTPUT_DIR, 'test_horizon')"
   ]
  },
  {
   "cell_type": "code",
   "execution_count": null,
   "metadata": {},
   "outputs": [],
   "source": [
    "def test_horizons_equality(horizon_1, horizon_2, test_name):\n",
    "    \" Check two horizons equality.\"\n",
    "    assert np.array_equal(horizon_1.full_matrix, horizon_2.full_matrix), f\"{test_name} test failed\"\n",
    "    assert np.array_equal(horizon_1.points, horizon_2.points), f\"{test_name} test failed\""
   ]
  },
  {
   "cell_type": "code",
   "execution_count": null,
   "metadata": {},
   "outputs": [],
   "source": [
    "%%time\n",
    "field = Field(CUBE_PATH)\n",
    "\n",
    "horizon = Horizon(HORIZON_PATH, field=field)\n",
    "\n",
    "horizon.show(show=SHOW_FIGURES)"
   ]
  },
  {
   "cell_type": "markdown",
   "metadata": {},
   "source": [
    "# get_cube_values"
   ]
  },
  {
   "cell_type": "code",
   "execution_count": null,
   "metadata": {},
   "outputs": [],
   "source": [
    "%%time\n",
    "# Make a flat horizon in the cube\n",
    "depth = field.shape[-1]//2\n",
    "window = field.shape[-1]//20\n",
    "\n",
    "constant_matrix = np.ones_like(horizon.full_matrix) * depth\n",
    "\n",
    "constant_horizon = Horizon(constant_matrix, i_min=0, x_min=0,\n",
    "                           field=horizon.field, name=\"const\")\n",
    "\n",
    "# Get values along constant horizon\n",
    "horizon_values = constant_horizon.get_cube_values(window=window)\n",
    "horizon_values = np.nan_to_num(horizon_values, constant_horizon.FILL_VALUE)\n",
    "\n",
    "# Get values from the cube\n",
    "geometry_values = field.geometry[:, :, depth-window//2:depth+window//2]\n",
    "\n",
    "assert np.allclose(\n",
    "    horizon_values[constant_horizon.presence_matrix],\n",
    "    geometry_values[constant_horizon.presence_matrix]\n",
    "), \"get_cube_values test failed\""
   ]
  },
  {
   "cell_type": "markdown",
   "metadata": {},
   "source": [
    "# Filtering"
   ]
  },
  {
   "cell_type": "code",
   "execution_count": null,
   "metadata": {},
   "outputs": [],
   "source": [
    "%%time\n",
    "# from_subset\n",
    "# Make horizon which is cutted by i_line and calculate its coverage\n",
    "# Create filtering matrix\n",
    "cut_i_line = horizon.shape[0]//3\n",
    "filtering_matrix = np.ones_like(horizon.full_matrix).astype(bool)\n",
    "filtering_matrix[:cut_i_line] = False\n",
    "filtering_matrix = filtering_matrix & horizon.presence_matrix\n",
    "\n",
    "# Matrix coverage\n",
    "filtering_matrix_coverage = np.sum(filtering_matrix)\n",
    "nonzero_traces = (np.prod(horizon.field.spatial_shape) - np.sum(horizon.field.zero_traces))\n",
    "filtering_matrix_coverage /= nonzero_traces\n",
    "\n",
    "# New horizon filtered by matrix\n",
    "filtered_horizon = Horizon(storage=horizon.full_matrix, field=horizon.field, name=\"filtered\")\n",
    "filtered_horizon = filtered_horizon.from_subset(filtering_matrix)\n",
    "\n",
    "filtered_horizon.show(show=SHOW_FIGURES)\n",
    "\n",
    "assert np.isclose(\n",
    "    filtering_matrix_coverage, filtered_horizon.coverage, atol=1e-3\n",
    "), \"from_subset test failed\""
   ]
  },
  {
   "cell_type": "code",
   "execution_count": null,
   "metadata": {},
   "outputs": [],
   "source": [
    "%%time\n",
    "filtered_horizon = Horizon(horizon.full_matrix, field=horizon.field, name=\"filtered\")\n",
    "filtered_horizon.filter()\n",
    "\n",
    "# Check that zero_traces filled by FILL_VALUE\n",
    "filtered_horizon_full_matrix = filtered_horizon.matrix_put_on_full(filtered_horizon.matrix)\n",
    "zero_traces_area = filtered_horizon_full_matrix[filtered_horizon.field.zero_traces.astype(bool)]\n",
    "\n",
    "assert np.all(zero_traces_area==filtered_horizon.FILL_VALUE), \"filter test failed\"\n",
    "\n",
    "# Check that other traces didn't change\n",
    "non_zero_traces_area = filtered_horizon_full_matrix[\n",
    "    ~filtered_horizon.field.zero_traces.astype(bool)\n",
    "]\n",
    "\n",
    "original_matrix = horizon.full_matrix[~horizon.field.zero_traces.astype(bool)]\n",
    "\n",
    "filtered_horizon.show(show=SHOW_FIGURES)\n",
    "\n",
    "assert np.array_equal(non_zero_traces_area, original_matrix), \"filter test failed\""
   ]
  },
  {
   "cell_type": "code",
   "execution_count": null,
   "metadata": {},
   "outputs": [],
   "source": [
    "%%time\n",
    "# filter_matrix\n",
    "# cut horizon by iline and check that cutted area is empty and other area is the same\n",
    "i_line_cut = horizon.shape[0]//3\n",
    "\n",
    "filtered_horizon = Horizon(horizon.full_matrix, field=horizon.field, name=\"filtered\")\n",
    "\n",
    "filtering_matrix = np.zeros_like(horizon.matrix)\n",
    "filtering_matrix[:i_line_cut] = 1\n",
    "\n",
    "filtered_horizon.filter_matrix(filtering_matrix)\n",
    "\n",
    "filtered_horizon.show(show=SHOW_FIGURES)\n",
    "\n",
    "# cutted area contains only FILL_VALUE\n",
    "assert np.all(\n",
    "    filtered_horizon.full_matrix[:i_line_cut]==horizon.FILL_VALUE\n",
    "), \"filter_matrix test failed\"\n",
    "\n",
    "assert np.array_equal(\n",
    "    filtered_horizon.points,\n",
    "    horizon.points[horizon.points[:, 0] >= i_line_cut]\n",
    "), \"filter_matrix test failed\" # this area didn't change"
   ]
  },
  {
   "cell_type": "code",
   "execution_count": null,
   "metadata": {},
   "outputs": [],
   "source": [
    "%%time\n",
    "filtered_horizon = Horizon(horizon.full_matrix, field=horizon.field, name=\"filtered\")\n",
    "\n",
    "filtered_horizon.filter_points(filtering_matrix)\n",
    "\n",
    "filtered_horizon.show(show=SHOW_FIGURES)\n",
    "\n",
    "# cutted area is not exists and existed part is the same as not cutted area\n",
    "assert np.array_equal(\n",
    "    filtered_horizon.points, horizon.points[horizon.points[:, 0] >= i_line_cut]\n",
    "), \"filter_points test failed\""
   ]
  },
  {
   "cell_type": "code",
   "execution_count": null,
   "metadata": {},
   "outputs": [],
   "source": [
    "%%time\n",
    "# Make constant horizon with spikes:\n",
    "spike_point = (horizon.shape[0]//2, horizon.shape[1]//2)\n",
    "\n",
    "horizon_matrix = np.ones_like(horizon.full_matrix) * 1000\n",
    "horizon_matrix[spike_point] += 5\n",
    "\n",
    "horizon_with_spikes = Horizon(horizon_matrix, field=horizon.field, name=\"constant_with_spike\")\n",
    "horizon_with_spikes.filter()\n",
    "\n",
    "# Save matrix state before despiking\n",
    "mtrx_before_despiking = horizon_with_spikes.full_matrix.copy()\n",
    "\n",
    "# Get mask of areas with cutted spikes (only for dilation=1)\n",
    "dilation = 1\n",
    "spikes_mask_median = np.zeros_like(horizon_with_spikes.full_matrix)\n",
    "\n",
    "for i in range(-dilation, dilation+1):\n",
    "    for x in range(-dilation, dilation+1):\n",
    "        if i == 0 or x == 0:\n",
    "            spikes_mask_median[(spike_point[0]+i, spike_point[1]+x)] = 1\n",
    "\n",
    "spikes_mask_gradient = spikes_mask_median.copy() # it has i_line and x_line shifts\n",
    "spikes_mask_gradient[1:] += spikes_mask_median[:-1].copy()\n",
    "spikes_mask_gradient[:, 1:] += spikes_mask_median[:, :-1].copy()\n",
    "\n",
    "spikes_mask_median = spikes_mask_median.astype(bool)\n",
    "spikes_mask_gradient = spikes_mask_gradient.astype(bool)\n",
    "\n",
    "spikes = {\n",
    "    \"median\": spikes_mask_median,\n",
    "    \"gradient\": spikes_mask_gradient\n",
    "}\n",
    "\n",
    "for mode, spikes_mask in spikes.items():\n",
    "    despiked_constant_horizon = Horizon(horizon_with_spikes.full_matrix,\n",
    "                                        field=horizon.field, name=\"despiked_constant\")\n",
    "\n",
    "    despiked_constant_horizon.filter_spikes(mode=mode, dilation=dilation)\n",
    "\n",
    "    assert np.all(\n",
    "        despiked_constant_horizon.full_matrix[spikes_mask]==despiked_constant_horizon.FILL_VALUE\n",
    "    ), f\"despike with mode {mode} test failed\" # spikes were despiked\n",
    "\n",
    "    assert np.array_equal(\n",
    "        despiked_constant_horizon.full_matrix[~spikes_mask],\n",
    "        mtrx_before_despiking[~spikes_mask]\n",
    "    ), f\"despike with mode {mode} test failed\" # other values are unchanged\n",
    "\n",
    "    print(f\"Despiking mode {mode} was successfully tested.\")"
   ]
  },
  {
   "cell_type": "code",
   "execution_count": null,
   "metadata": {},
   "outputs": [],
   "source": [
    "%%time\n",
    "# Split horizon in two parts by cut_i_line\n",
    "cut_i_line = horizon.shape[0]//3\n",
    "filtering_matrix = np.zeros_like(horizon.full_matrix)\n",
    "filtering_matrix[cut_i_line, :] = 1\n",
    "\n",
    "horizon_with_holes = Horizon(horizon.full_matrix, field=horizon.field, name=\"with_holes\")\n",
    "\n",
    "horizon_with_holes.filter(filtering_matrix)\n",
    "\n",
    "horizon_with_holes.filter_disconnected_regions()\n",
    "\n",
    "assert np.array_equal(\n",
    "    horizon_with_holes.full_matrix[cut_i_line+1:],\n",
    "    horizon.full_matrix[cut_i_line+1:]\n",
    "), \"filter_disconnected_regions test failed\" # after cut_line nothing to change\n",
    "\n",
    "assert np.all(\n",
    "    horizon_with_holes.full_matrix[:cut_i_line+1]==horizon_with_holes.FILL_VALUE\n",
    "), \"filter_disconnected_regions test failed\" # before cut_line horizon is empty"
   ]
  },
  {
   "cell_type": "markdown",
   "metadata": {},
   "source": [
    "# Specific manipulations"
   ]
  },
  {
   "cell_type": "code",
   "execution_count": null,
   "metadata": {},
   "outputs": [],
   "source": [
    "filtered_horizon = Horizon(horizon.full_matrix, field=horizon.field, name=\"filtered\")\n",
    "filtered_horizon.filter()\n",
    "\n",
    "frequency = 100\n",
    "\n",
    "def calculate_grid_coverage(horizon, frequencies=100, width=1, **kwargs):\n",
    "    \"\"\" Approximate calculation of coverage of regular grid.\n",
    "\n",
    "    horizon : instance of the `Horizon` class\n",
    "        Seismic horizon.\n",
    "    frequencies : int or sequence of two integers\n",
    "        Grid frequencies by (iline, xline).\n",
    "        If int, then grid frequencies are equals for ilines and xlines.\n",
    "    width : int or sequence of two integers\n",
    "        Grid width by (iline, xline).\n",
    "        If int, then grid widths are equals for ilines and xlines.\n",
    "    \"\"\"\n",
    "    if isinstance(frequencies, int):\n",
    "        frequencies = (frequencies, frequencies)\n",
    "\n",
    "    i_min = kwargs.get('i_min', horizon.i_min)\n",
    "    x_min = kwargs.get('x_min', horizon.x_min)\n",
    "\n",
    "    # Calculate amounts of grid *_lines\n",
    "    amount_of_ilines = (horizon.i_length - i_min) // frequencies[0]\n",
    "    amount_of_xlines = (horizon.x_length - x_min) // frequencies[1]\n",
    "\n",
    "    # On borders we have a line with half of grid\n",
    "    if (horizon.i_length - i_min) % frequencies[0] > 0:\n",
    "        amount_of_ilines += 0.5\n",
    "    else:\n",
    "        amount_of_ilines -= 0.5\n",
    "\n",
    "    if (horizon.x_length - x_min) % frequencies[1] > 0:\n",
    "        amount_of_xlines += 0.5\n",
    "    else:\n",
    "        amount_of_xlines -= 0.5\n",
    "\n",
    "    # Count amount of traces for grid with width=1\n",
    "    intersection_traces = amount_of_ilines * amount_of_xlines\n",
    "    unit_grid_traces = amount_of_ilines * horizon.x_length + amount_of_xlines * horizon.i_length\n",
    "\n",
    "    # Count amount of traces for grid with preset width\n",
    "    grid_traces = width * unit_grid_traces\n",
    "    intersection_traces = width * width *intersection_traces\n",
    "    grid_traces -= intersection_traces\n",
    "\n",
    "    # Calculate approximate amount of traces in grid in horizon area\n",
    "    coverage = grid_traces / horizon.size\n",
    "\n",
    "    return coverage"
   ]
  },
  {
   "cell_type": "markdown",
   "metadata": {},
   "source": [
    "## Carcass"
   ]
  },
  {
   "cell_type": "code",
   "execution_count": null,
   "metadata": {},
   "outputs": [],
   "source": [
    "%%time\n",
    "carcass = filtered_horizon.make_carcass(margin=0, frequencies=frequency,\n",
    "                                        regular=True, apply_smoothing=True)\n",
    "\n",
    "carcass.show(show=SHOW_FIGURES, load_kwargs={\"enlarge\": True})\n",
    "\n",
    "approximate_grid_coverage = calculate_grid_coverage(\n",
    "    horizon=filtered_horizon, frequencies=frequency,\n",
    "    width=3, i_min=0, x_min=0\n",
    ")\n",
    "\n",
    "assert np.isclose(carcass.coverage, approximate_grid_coverage, atol=2e-3), \"carcass test failed\""
   ]
  },
  {
   "cell_type": "markdown",
   "metadata": {},
   "source": [
    "## thin_out"
   ]
  },
  {
   "cell_type": "code",
   "execution_count": null,
   "metadata": {},
   "outputs": [],
   "source": [
    "%%time\n",
    "thined_horizon = Horizon(filtered_horizon.full_matrix, field=filtered_horizon.field, name=\"thined\")\n",
    "thined_horizon.thin_out(factor=(frequency, frequency), threshold=np.min(filtered_horizon.shape)//10)\n",
    "\n",
    "thined_horizon.show(show=SHOW_FIGURES, load_kwargs={\"enlarge\": True})\n",
    "\n",
    "approximate_grid_coverage = calculate_grid_coverage(\n",
    "    horizon=filtered_horizon, frequencies=frequency, width=1,\n",
    "    i_min=filtered_horizon.i_min, x_min=filtered_horizon.x_min\n",
    ")\n",
    "\n",
    "assert np.isclose(\n",
    "    thined_horizon.coverage, approximate_grid_coverage, atol=2e-3\n",
    "), \"thin_out test failed\""
   ]
  },
  {
   "cell_type": "markdown",
   "metadata": {},
   "source": [
    "# Interpolate"
   ]
  },
  {
   "cell_type": "code",
   "execution_count": null,
   "metadata": {},
   "outputs": [],
   "source": [
    "%%time\n",
    "interpolated_horizon = Horizon(thined_horizon.full_matrix,\n",
    "                               field=filtered_horizon.field, name=\"interpolated\")\n",
    "interpolated_horizon.interpolate()\n",
    "\n",
    "interpolated_horizon.show(show=SHOW_FIGURES, load_kwargs={\"enlarge\": True})\n",
    "\n",
    "approximate_grid_coverage = calculate_grid_coverage(\n",
    "    horizon=filtered_horizon, frequencies=frequency, width=3,\n",
    "    i_min=filtered_horizon.i_min, x_min=filtered_horizon.x_min\n",
    ")\n",
    "\n",
    "assert np.isclose(\n",
    "    interpolated_horizon.coverage, approximate_grid_coverage, atol=2e-3\n",
    "), \"interpolate test failed\""
   ]
  },
  {
   "cell_type": "markdown",
   "metadata": {},
   "source": [
    "## Holes"
   ]
  },
  {
   "cell_type": "code",
   "execution_count": null,
   "metadata": {},
   "outputs": [],
   "source": [
    "%%time\n",
    "filtering_matrix = filtered_horizon.make_random_holes_matrix(seed=13)\n",
    "filtering_matrix = filtered_horizon.matrix_put_on_full(filtering_matrix)\n",
    "\n",
    "horizon_with_holes = Horizon(filtered_horizon.full_matrix,\n",
    "                             field=filtered_horizon.field,\n",
    "                             name=\"with_holes\")\n",
    "horizon_with_holes.filter(filtering_matrix)\n",
    "\n",
    "if SHOW_FIGURES:\n",
    "    plot_image(filtering_matrix, cmap=\"viridis\", scale=SCALE, title=\"Holes matrix\")\n",
    "    horizon_with_holes.show(scale=SCALE)\n",
    "\n",
    "assert (\n",
    "    horizon_with_holes.coverage < filtered_horizon.coverage\n",
    "), \"make_random_holes_matrix test failed\""
   ]
  }
 ],
 "metadata": {
  "kernelspec": {
   "display_name": "Python 3 (ipykernel)",
   "language": "python",
   "name": "python3"
  },
  "language_info": {
   "codemirror_mode": {
    "name": "ipython",
    "version": 3
   },
   "file_extension": ".py",
   "mimetype": "text/x-python",
   "name": "python",
   "nbconvert_exporter": "python",
   "pygments_lexer": "ipython3",
   "version": "3.8.10"
  }
 },
 "nbformat": 4,
 "nbformat_minor": 4
}
